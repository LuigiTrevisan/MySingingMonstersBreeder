{
  "cells": [
    {
      "cell_type": "code",
      "execution_count": 1,
      "metadata": {
        "colab": {
          "base_uri": "https://localhost:8080/",
          "height": 867
        },
        "id": "ACYm-Gp-RWLW",
        "outputId": "8362861e-032e-4654-850a-9c380d4efe76"
      },
      "outputs": [
        {
          "ename": "KeyError",
          "evalue": "'Portuguese (Monstro)'",
          "output_type": "error",
          "traceback": [
            "\u001b[1;31m---------------------------------------------------------------------------\u001b[0m",
            "\u001b[1;31mKeyError\u001b[0m                                  Traceback (most recent call last)",
            "File \u001b[1;32mc:\\Users\\trevi\\AppData\\Local\\Programs\\Python\\Python310\\lib\\site-packages\\pandas\\core\\indexes\\base.py:3621\u001b[0m, in \u001b[0;36mIndex.get_loc\u001b[1;34m(self, key, method, tolerance)\u001b[0m\n\u001b[0;32m   3620\u001b[0m \u001b[39mtry\u001b[39;00m:\n\u001b[1;32m-> 3621\u001b[0m     \u001b[39mreturn\u001b[39;00m \u001b[39mself\u001b[39;49m\u001b[39m.\u001b[39;49m_engine\u001b[39m.\u001b[39;49mget_loc(casted_key)\n\u001b[0;32m   3622\u001b[0m \u001b[39mexcept\u001b[39;00m \u001b[39mKeyError\u001b[39;00m \u001b[39mas\u001b[39;00m err:\n",
            "File \u001b[1;32mc:\\Users\\trevi\\AppData\\Local\\Programs\\Python\\Python310\\lib\\site-packages\\pandas\\_libs\\index.pyx:136\u001b[0m, in \u001b[0;36mpandas._libs.index.IndexEngine.get_loc\u001b[1;34m()\u001b[0m\n",
            "File \u001b[1;32mc:\\Users\\trevi\\AppData\\Local\\Programs\\Python\\Python310\\lib\\site-packages\\pandas\\_libs\\index.pyx:163\u001b[0m, in \u001b[0;36mpandas._libs.index.IndexEngine.get_loc\u001b[1;34m()\u001b[0m\n",
            "File \u001b[1;32mpandas\\_libs\\hashtable_class_helper.pxi:5198\u001b[0m, in \u001b[0;36mpandas._libs.hashtable.PyObjectHashTable.get_item\u001b[1;34m()\u001b[0m\n",
            "File \u001b[1;32mpandas\\_libs\\hashtable_class_helper.pxi:5206\u001b[0m, in \u001b[0;36mpandas._libs.hashtable.PyObjectHashTable.get_item\u001b[1;34m()\u001b[0m\n",
            "\u001b[1;31mKeyError\u001b[0m: 'Portuguese (Monstro)'",
            "\nThe above exception was the direct cause of the following exception:\n",
            "\u001b[1;31mKeyError\u001b[0m                                  Traceback (most recent call last)",
            "\u001b[1;32mc:\\Users\\trevi\\OneDrive\\OneDrive - Instituto Maua de Tecnologia\\1 ano\\2 semestre\\avulsos\\msm\\msm\\TableExtract.ipynb Cell 1\u001b[0m in \u001b[0;36m<cell line: 5>\u001b[1;34m()\u001b[0m\n\u001b[0;32m      <a href='vscode-notebook-cell:/c%3A/Users/trevi/OneDrive/OneDrive%20-%20Instituto%20Maua%20de%20Tecnologia/1%20ano/2%20semestre/avulsos/msm/msm/TableExtract.ipynb#W0sZmlsZQ%3D%3D?line=0'>1</a>\u001b[0m \u001b[39mimport\u001b[39;00m \u001b[39mpandas\u001b[39;00m \u001b[39mas\u001b[39;00m \u001b[39mpd\u001b[39;00m\n\u001b[0;32m      <a href='vscode-notebook-cell:/c%3A/Users/trevi/OneDrive/OneDrive%20-%20Instituto%20Maua%20de%20Tecnologia/1%20ano/2%20semestre/avulsos/msm/msm/TableExtract.ipynb#W0sZmlsZQ%3D%3D?line=2'>3</a>\u001b[0m table_MN \u001b[39m=\u001b[39m pd\u001b[39m.\u001b[39mread_html(\u001b[39m'\u001b[39m\u001b[39mhttps://mysingingmonsters.fandom.com/wiki/Monster_Translations\u001b[39m\u001b[39m'\u001b[39m)\n\u001b[1;32m----> <a href='vscode-notebook-cell:/c%3A/Users/trevi/OneDrive/OneDrive%20-%20Instituto%20Maua%20de%20Tecnologia/1%20ano/2%20semestre/avulsos/msm/msm/TableExtract.ipynb#W0sZmlsZQ%3D%3D?line=4'>5</a>\u001b[0m df_pt \u001b[39m=\u001b[39m pd\u001b[39m.\u001b[39mDataFrame(table_MN[\u001b[39m0\u001b[39;49m][\u001b[39m'\u001b[39;49m\u001b[39mPortuguese (Monstro)\u001b[39;49m\u001b[39m'\u001b[39;49m])\n\u001b[0;32m      <a href='vscode-notebook-cell:/c%3A/Users/trevi/OneDrive/OneDrive%20-%20Instituto%20Maua%20de%20Tecnologia/1%20ano/2%20semestre/avulsos/msm/msm/TableExtract.ipynb#W0sZmlsZQ%3D%3D?line=5'>6</a>\u001b[0m df_pt \u001b[39m=\u001b[39m df_pt\u001b[39m.\u001b[39mrename(columns\u001b[39m=\u001b[39m{\u001b[39m'\u001b[39m\u001b[39mPortuguese (Monstro)\u001b[39m\u001b[39m'\u001b[39m : \u001b[39m'\u001b[39m\u001b[39mPortuguese\u001b[39m\u001b[39m'\u001b[39m})\n\u001b[0;32m      <a href='vscode-notebook-cell:/c%3A/Users/trevi/OneDrive/OneDrive%20-%20Instituto%20Maua%20de%20Tecnologia/1%20ano/2%20semestre/avulsos/msm/msm/TableExtract.ipynb#W0sZmlsZQ%3D%3D?line=6'>7</a>\u001b[0m \u001b[39mfor\u001b[39;00m i \u001b[39min\u001b[39;00m \u001b[39mrange\u001b[39m(\u001b[39m1\u001b[39m, \u001b[39m10\u001b[39m):\n",
            "File \u001b[1;32mc:\\Users\\trevi\\AppData\\Local\\Programs\\Python\\Python310\\lib\\site-packages\\pandas\\core\\frame.py:3505\u001b[0m, in \u001b[0;36mDataFrame.__getitem__\u001b[1;34m(self, key)\u001b[0m\n\u001b[0;32m   3503\u001b[0m \u001b[39mif\u001b[39;00m \u001b[39mself\u001b[39m\u001b[39m.\u001b[39mcolumns\u001b[39m.\u001b[39mnlevels \u001b[39m>\u001b[39m \u001b[39m1\u001b[39m:\n\u001b[0;32m   3504\u001b[0m     \u001b[39mreturn\u001b[39;00m \u001b[39mself\u001b[39m\u001b[39m.\u001b[39m_getitem_multilevel(key)\n\u001b[1;32m-> 3505\u001b[0m indexer \u001b[39m=\u001b[39m \u001b[39mself\u001b[39;49m\u001b[39m.\u001b[39;49mcolumns\u001b[39m.\u001b[39;49mget_loc(key)\n\u001b[0;32m   3506\u001b[0m \u001b[39mif\u001b[39;00m is_integer(indexer):\n\u001b[0;32m   3507\u001b[0m     indexer \u001b[39m=\u001b[39m [indexer]\n",
            "File \u001b[1;32mc:\\Users\\trevi\\AppData\\Local\\Programs\\Python\\Python310\\lib\\site-packages\\pandas\\core\\indexes\\base.py:3623\u001b[0m, in \u001b[0;36mIndex.get_loc\u001b[1;34m(self, key, method, tolerance)\u001b[0m\n\u001b[0;32m   3621\u001b[0m     \u001b[39mreturn\u001b[39;00m \u001b[39mself\u001b[39m\u001b[39m.\u001b[39m_engine\u001b[39m.\u001b[39mget_loc(casted_key)\n\u001b[0;32m   3622\u001b[0m \u001b[39mexcept\u001b[39;00m \u001b[39mKeyError\u001b[39;00m \u001b[39mas\u001b[39;00m err:\n\u001b[1;32m-> 3623\u001b[0m     \u001b[39mraise\u001b[39;00m \u001b[39mKeyError\u001b[39;00m(key) \u001b[39mfrom\u001b[39;00m \u001b[39merr\u001b[39;00m\n\u001b[0;32m   3624\u001b[0m \u001b[39mexcept\u001b[39;00m \u001b[39mTypeError\u001b[39;00m:\n\u001b[0;32m   3625\u001b[0m     \u001b[39m# If we have a listlike key, _check_indexing_error will raise\u001b[39;00m\n\u001b[0;32m   3626\u001b[0m     \u001b[39m#  InvalidIndexError. Otherwise we fall through and re-raise\u001b[39;00m\n\u001b[0;32m   3627\u001b[0m     \u001b[39m#  the TypeError.\u001b[39;00m\n\u001b[0;32m   3628\u001b[0m     \u001b[39mself\u001b[39m\u001b[39m.\u001b[39m_check_indexing_error(key)\n",
            "\u001b[1;31mKeyError\u001b[0m: 'Portuguese (Monstro)'"
          ]
        }
      ],
      "source": [
        "import pandas as pd\n",
        "\n",
        "table_MN = pd.read_html('https://mysingingmonsters.fandom.com/wiki/Monster_Translations')\n",
        "\n",
        "df_pt = pd.DataFrame(table_MN[0]['Portuguese (Monstro)'])\n",
        "df_pt = df_pt.rename(columns={'Portuguese (Monstro)' : 'Portuguese'})\n",
        "for i in range(1, 10):\n",
        "  df_pt = pd.concat([df_pt, pd.DataFrame(table_MN[i]['Portuguese'])])\n",
        "display(df_pt)\n",
        "lista_pt = df_pt['Portuguese'].tolist()\n",
        "\n",
        "df_en = pd.DataFrame(table_MN[0]['English (Monster)'])\n",
        "df_en = df_en.rename(columns={'English (Monster)' : 'English'})\n",
        "for i in range(1, 10):\n",
        "  df_en = pd.concat([df_en, pd.DataFrame(table_MN[i]['English'])])\n",
        "display(df_en)\n",
        "lista_en = df_en['English'].tolist()\n",
        "\n",
        "\n",
        "dict_translation = dict(zip(lista_en, lista_pt))\n",
        "print(dict_translation)\n",
        "with open('dict.txt', 'w') as writefile:\n",
        "  print(dict_translation, file=writefile)"
      ]
    },
    {
      "cell_type": "code",
      "execution_count": 2,
      "metadata": {},
      "outputs": [
        {
          "data": {
            "text/html": [
              "<div>\n",
              "<style scoped>\n",
              "    .dataframe tbody tr th:only-of-type {\n",
              "        vertical-align: middle;\n",
              "    }\n",
              "\n",
              "    .dataframe tbody tr th {\n",
              "        vertical-align: top;\n",
              "    }\n",
              "\n",
              "    .dataframe thead th {\n",
              "        text-align: right;\n",
              "    }\n",
              "</style>\n",
              "<table border=\"1\" class=\"dataframe\">\n",
              "  <thead>\n",
              "    <tr style=\"text-align: right;\">\n",
              "      <th></th>\n",
              "      <th>Portuguese</th>\n",
              "    </tr>\n",
              "  </thead>\n",
              "  <tbody>\n",
              "    <tr>\n",
              "      <th>0</th>\n",
              "      <td>Pintinho Piu</td>\n",
              "    </tr>\n",
              "    <tr>\n",
              "      <th>1</th>\n",
              "      <td>Planta Pança</td>\n",
              "    </tr>\n",
              "    <tr>\n",
              "      <th>2</th>\n",
              "      <td>Cabeça-dura</td>\n",
              "    </tr>\n",
              "    <tr>\n",
              "      <th>3</th>\n",
              "      <td>Dedo Enroscado</td>\n",
              "    </tr>\n",
              "    <tr>\n",
              "      <th>4</th>\n",
              "      <td>Mamutinho</td>\n",
              "    </tr>\n",
              "    <tr>\n",
              "      <th>...</th>\n",
              "      <td>...</td>\n",
              "    </tr>\n",
              "    <tr>\n",
              "      <th>10</th>\n",
              "      <td>Vivena</td>\n",
              "    </tr>\n",
              "    <tr>\n",
              "      <th>11</th>\n",
              "      <td>Spurrit</td>\n",
              "    </tr>\n",
              "    <tr>\n",
              "      <th>12</th>\n",
              "      <td>Mónculo</td>\n",
              "    </tr>\n",
              "    <tr>\n",
              "      <th>13</th>\n",
              "      <td>Traque</td>\n",
              "    </tr>\n",
              "    <tr>\n",
              "      <th>14</th>\n",
              "      <td>Livrerme</td>\n",
              "    </tr>\n",
              "  </tbody>\n",
              "</table>\n",
              "<p>198 rows × 1 columns</p>\n",
              "</div>"
            ],
            "text/plain": [
              "        Portuguese\n",
              "0     Pintinho Piu\n",
              "1     Planta Pança\n",
              "2      Cabeça-dura\n",
              "3   Dedo Enroscado\n",
              "4        Mamutinho\n",
              "..             ...\n",
              "10          Vivena\n",
              "11         Spurrit\n",
              "12         Mónculo\n",
              "13          Traque\n",
              "14        Livrerme\n",
              "\n",
              "[198 rows x 1 columns]"
            ]
          },
          "metadata": {},
          "output_type": "display_data"
        },
        {
          "data": {
            "text/html": [
              "<div>\n",
              "<style scoped>\n",
              "    .dataframe tbody tr th:only-of-type {\n",
              "        vertical-align: middle;\n",
              "    }\n",
              "\n",
              "    .dataframe tbody tr th {\n",
              "        vertical-align: top;\n",
              "    }\n",
              "\n",
              "    .dataframe thead th {\n",
              "        text-align: right;\n",
              "    }\n",
              "</style>\n",
              "<table border=\"1\" class=\"dataframe\">\n",
              "  <thead>\n",
              "    <tr style=\"text-align: right;\">\n",
              "      <th></th>\n",
              "      <th>English</th>\n",
              "    </tr>\n",
              "  </thead>\n",
              "  <tbody>\n",
              "    <tr>\n",
              "      <th>0</th>\n",
              "      <td>Tweedle</td>\n",
              "    </tr>\n",
              "    <tr>\n",
              "      <th>1</th>\n",
              "      <td>Potbelly</td>\n",
              "    </tr>\n",
              "    <tr>\n",
              "      <th>2</th>\n",
              "      <td>Noggin</td>\n",
              "    </tr>\n",
              "    <tr>\n",
              "      <th>3</th>\n",
              "      <td>Toe Jammer</td>\n",
              "    </tr>\n",
              "    <tr>\n",
              "      <th>4</th>\n",
              "      <td>Mammott</td>\n",
              "    </tr>\n",
              "    <tr>\n",
              "      <th>...</th>\n",
              "      <td>...</td>\n",
              "    </tr>\n",
              "    <tr>\n",
              "      <th>10</th>\n",
              "      <td>Viveine</td>\n",
              "    </tr>\n",
              "    <tr>\n",
              "      <th>11</th>\n",
              "      <td>Spurrit</td>\n",
              "    </tr>\n",
              "    <tr>\n",
              "      <th>12</th>\n",
              "      <td>Monculus</td>\n",
              "    </tr>\n",
              "    <tr>\n",
              "      <th>13</th>\n",
              "      <td>Whiz-bang</td>\n",
              "    </tr>\n",
              "    <tr>\n",
              "      <th>14</th>\n",
              "      <td>Boo'qwurm</td>\n",
              "    </tr>\n",
              "  </tbody>\n",
              "</table>\n",
              "<p>198 rows × 1 columns</p>\n",
              "</div>"
            ],
            "text/plain": [
              "       English\n",
              "0      Tweedle\n",
              "1     Potbelly\n",
              "2       Noggin\n",
              "3   Toe Jammer\n",
              "4      Mammott\n",
              "..         ...\n",
              "10     Viveine\n",
              "11     Spurrit\n",
              "12    Monculus\n",
              "13   Whiz-bang\n",
              "14   Boo'qwurm\n",
              "\n",
              "[198 rows x 1 columns]"
            ]
          },
          "metadata": {},
          "output_type": "display_data"
        },
        {
          "name": "stdout",
          "output_type": "stream",
          "text": [
            "{'Tweedle': 'Pintinho Piu', 'Potbelly': 'Planta Pança', 'Noggin': 'Cabeça-dura', 'Toe Jammer': 'Dedo Enroscado', 'Mammott': 'Mamutinho', 'Dandidoo': 'Dandidão', 'Cybop': 'Cibop', 'Quibble': 'Picuinha', 'Pango': 'Panguim', 'Shrubb': 'ArBusto', 'Oaktopus': 'Carvalho-Polvo', 'Furcorn': 'Sabugo Peludo', 'Fwog': 'Dom Sapo', 'Drumpler': 'Baquetador', 'Maw': 'Bocarra', 'Reedling': 'Piu-Flau', 'Spunge': 'Esponjo', 'Thumpies': 'Thumpies', 'PomPom': 'PomPom', 'Congle': 'Tambor-Tronco', 'Pummel': 'Maraca', 'Clamble': 'Rei-do-Vinhedo', 'Bowgart': 'Cornocelo', 'T-Rox': 'T-Rox', 'Scups': 'Pata-Peixe', 'Shellbeat': 'Bate-carapaça', 'Deedge': 'Di-Jay', 'Riff': 'Riff', 'Entbrat': 'Molequ-Ent', 'Quarrister': 'Banda-de-Rocha', 'Do': 'Dó', 'Re': 'Ré', 'Mi': 'Mi', 'Fa': 'Fá', 'Sol': 'Sol', 'La': 'Lá', 'Ti': 'Si', 'Kayna': 'Lavareda', 'Glowl': 'Brilha-Coruja', 'Flowah': 'Florespinha', 'Stogg': 'Estegão', 'Phangler': 'Peixanzol', 'Boskus': 'Bicanco', 'Barrb': 'Picarespin', 'Floogull': 'Trombaivota', 'Whaddle': 'Palmípato', 'Woolabee': 'Lãovelha', 'Repatillo': 'Réptatu', 'Rootitoot': 'Rutitú', 'Thrumble': 'Cantarolador', 'Ziggurab': 'Zigurabu', 'Wynq': 'Piscadela', 'Sooza': 'Susafone', 'Tring': 'Triâng', 'Sneyser': 'Espirrador', 'Yelmut': 'Elmogrito', 'Flum Ox': 'Omboi', 'Krillby': 'Camarauta', 'Edamimi': 'Edamimi', 'PongPing': 'PongPing', 'Tiawa': 'Diadama', 'Bisonorus': 'Bisonoronte', 'Incisaur': 'Dentessauro', 'Candelavra': 'Candelabra', 'Bowhead': 'Baleiarco', 'Drummidary': 'Tamboredário', 'Tuskski': 'Presasqui', 'Gnarls': 'Nharles', 'Fluoress': 'Fluoresca', 'Theremind': 'Teremente', 'Floot Fly': 'Mosca-da-Flauta', 'Clackula': 'Estrácula', 'Gob': 'Matraca', 'Pluckbill': 'Arrancarrinco', 'Bulbo': 'Bulbo', 'Bonkers': 'Pancadores', 'Poppette': 'Estouradora', 'Yuggler': 'Iogabarista', 'HippityHop': 'Hip-Hopador', 'Squot': 'Rechoncho', 'Wimmzies': 'Caprichas', 'Peckidna': 'Piquidna', 'Denchuhs': 'Gêmolares', 'Hawlo': 'Oconco', 'Xyster': 'Felinossudo', 'Cahoot': 'Conlu-huuio', 'Déjà-Jin': 'Déjà-Gênio', 'Knucklehead': 'Cabeçuda', 'Osstax': 'Pilhossos', 'Roarick': 'Rugirick', 'Spytrap': 'Armadilha Espiã', 'TooToo': 'TuTu', 'Fiddlement': 'Rabecalumia', 'Tapricorn': 'Tocapricórnio', 'Rooba': 'Ruba', 'Periscorp': 'Periscórpião', 'Cantorell': 'Cantorelo', 'Bridg-it': 'Pontista', 'Clavi Gnat': 'Claviquito', 'Withur': 'Murcha', 'Uuduk': 'Uduque', 'Banjaw': 'Banjíbula', 'Larvaluss': 'Larvavilha', 'Mushaboom': 'Mushabum', 'Frondley': 'Folhamável', \"G'day\": \"G'day\", \"Blow't\": 'Inchador', 'Gloptic': 'Viscolho', 'Pladdie': 'Tartapaz', 'Plinkajou': 'Juparrilhão', 'Enchantling': 'Encantamorfo', 'Scaratar': 'Escarasítar', 'Loodvigg': 'Bitoven', 'Torrt': 'Tartambor', 'Plixie': 'Pluende', 'Attmoz': 'Atmosfer', 'Hornacle': 'Cornecraca', 'Furnoss': 'Fornácio', 'Glaishur': 'Geleirinho', 'Blasoom': 'Florgote', 'Syncopite': 'Tonólito', 'Vhamp': 'Mecâlodia', 'Galvana': 'Galvana', 'Ghazt': 'Fantominho', 'Reebro': 'Cerebrother', 'Grumpyre': 'Vampiro Ranzinza', 'Arackulele': 'Aranhakulele', 'Nebulob': 'Nebulosinho', 'Whisp': 'Cacha', 'Jeeode': 'Jeode', 'Boodoo': 'Bodu', 'Sox': 'Rapossax', 'Humbug': 'Abelha-Besteira', 'Kazilleon': 'Camazilhão', 'Bellowfish': 'Baiacu-Fole', 'Dragong': 'Dragongo', 'Jellbilly': 'Medussertanejo', 'Fung Pray': 'Feng-Shugumelo', 'Shugabush': 'Açúcar-Bush', 'Shugabass': 'Açúcar-Baixo', 'Shugitar': 'Açúcar-Violão', 'Shugajo': 'Açúcar-Banjo', 'Shugarock': 'Açúcar-Rock', 'Shugabuzz': 'Açúcar-Zumbidor', 'Shugabeats': 'Açúcar-Baterista', 'Shugavox': 'Açúcar-Vox', 'Tawkerr': 'Tawkerr', 'Parlsona': 'Parlsona', 'Maggpi': 'Maggpi', 'Stoowarb': 'Stoowarb', 'Wubbox': 'Wub-Caixa', 'Brump': 'Sapovudo', 'Zynth': 'Libéluzz', 'Poewk': 'Finca', 'Thwok': 'Tuong', 'Dwumrohl': 'Tambum', 'Zuuker': 'Zuukeiros', 'Screemu': 'Gritema', 'Tympa': 'Tímpa', 'Dermit': 'Deremita', 'Gheegur': 'Guiguer', 'Whajje': 'Whajje', 'Creepuscule': 'Creepúsculo', 'Blipsqueak': 'Blipirralho', 'Scargo': 'Scargo', 'Astropod': 'Astrópode', 'Pixolotl': 'Pixolote', 'Bona-Petite': 'Boma-Petite', 'Maulch': 'Composto', 'Fleechwurm': 'Hipnonhoca', \"G'joob\": \"G'joob\", 'Strombonin': 'Strombonin', 'Yawstrich': 'Avestruz-Altavoz', 'Anglow': 'Lumibesta', 'Hyehehe': 'Hiehehe', 'Cherubble': 'Querubolha', 'Cataliszt': 'Gatalisador', 'Bleatnik': 'Balinik', 'Cranchee': 'Distanshee', 'Sporerow': 'Espordal', 'Pinghound': 'Cão de Som', 'Wheezel': 'Sibilinha', 'ShLep': 'Lânguiposa', 'Punkleton': 'Punkeleto', 'Yool': 'Papai Yule', 'Schmoochle': 'Beijo-Bicota', 'Blabbit': 'Coelhinho do Ninho', 'Hoola': 'Bambolinho', 'Gobbleygourd': 'Glu-glubaça', 'Jam Boree': 'Confolião', 'Clavavera': 'Clavavera', 'Carillong': 'Carrilhong', 'Ffidyll': 'Ffidílio', 'Viveine': 'Vivena', 'Spurrit': 'Spurrit', 'Monculus': 'Mónculo', 'Whiz-bang': 'Traque', \"Boo'qwurm\": 'Livrerme'}\n"
          ]
        }
      ],
      "source": [
        "import json\n",
        "\n",
        "\n",
        "table_MN = pd.read_html('https://mysingingmonsters.fandom.com/wiki/Monster_Translations')\n",
        "\n",
        "df_pt = pd.DataFrame(table_MN[0]['Portuguese'])\n",
        "for i in range(1, 10):\n",
        "  df_pt = pd.concat([df_pt, pd.DataFrame(table_MN[i]['Portuguese'])])\n",
        "display(df_pt)\n",
        "lista_pt = df_pt['Portuguese'].tolist()\n",
        "\n",
        "df_en = pd.DataFrame(table_MN[0]['English'])\n",
        "df_en = df_en.rename(columns={'English' : 'English'})\n",
        "for i in range(1, 10):\n",
        "  df_en = pd.concat([df_en, pd.DataFrame(table_MN[i]['English'])])\n",
        "display(df_en)\n",
        "lista_en = df_en['English'].tolist()\n",
        "\n",
        "\n",
        "dict_translation = dict(zip(lista_en, lista_pt))\n",
        "print(dict_translation)\n",
        "with open('dict.txt', 'w') as writefile:\n",
        "  print(dict_translation, file=writefile)\n",
        "  \n",
        "with open('english.txt', 'w') as writefile:\n",
        "  print(json.dumps(lista_en), file=writefile)"
      ]
    },
    {
      "cell_type": "code",
      "execution_count": null,
      "metadata": {
        "id": "aPscDXXzI0mz"
      },
      "outputs": [],
      "source": [
        "from PIL import Image\n",
        "import urllib.request\n",
        "\n",
        "URL = 'https://static.wikia.nocookie.net/mysingingmonsters/images/1/18/Tweedle.png/revision/latest?cb=20191026213933'\n",
        "\n",
        "with urllib.request.urlopen(URL) as url:\n",
        "    with open('temp.jpg', 'wb') as f:\n",
        "        f.write(url.read())\n",
        "\n",
        "img = Image.open('temp.jpg')\n",
        "\n",
        "img.show()"
      ]
    },
    {
      "cell_type": "code",
      "execution_count": null,
      "metadata": {
        "colab": {
          "base_uri": "https://localhost:8080/",
          "height": 390
        },
        "id": "AZWN06hPJrup",
        "outputId": "7a9c210c-ee27-4834-e36b-4932adef69aa"
      },
      "outputs": [
        {
          "data": {
            "text/html": [
              "\n",
              "  <div id=\"df-debca316-1f62-42db-b611-751823aec506\">\n",
              "    <div class=\"colab-df-container\">\n",
              "      <div>\n",
              "<style scoped>\n",
              "    .dataframe tbody tr th:only-of-type {\n",
              "        vertical-align: middle;\n",
              "    }\n",
              "\n",
              "    .dataframe tbody tr th {\n",
              "        vertical-align: top;\n",
              "    }\n",
              "\n",
              "    .dataframe thead th {\n",
              "        text-align: right;\n",
              "    }\n",
              "</style>\n",
              "<table border=\"1\" class=\"dataframe\">\n",
              "  <thead>\n",
              "    <tr style=\"text-align: right;\">\n",
              "      <th></th>\n",
              "      <th>0</th>\n",
              "      <th>1</th>\n",
              "    </tr>\n",
              "  </thead>\n",
              "  <tbody>\n",
              "    <tr>\n",
              "      <th>3</th>\n",
              "      <td>T-Rox</td>\n",
              "      <td>Fantominho</td>\n",
              "    </tr>\n",
              "    <tr>\n",
              "      <th>4</th>\n",
              "      <td>Maraca</td>\n",
              "      <td>Fantominho</td>\n",
              "    </tr>\n",
              "    <tr>\n",
              "      <th>5</th>\n",
              "      <td>Rei-do-Vinhedo</td>\n",
              "      <td>Fantominho</td>\n",
              "    </tr>\n",
              "    <tr>\n",
              "      <th>6</th>\n",
              "      <td>Cornocelo</td>\n",
              "      <td>Fantominho</td>\n",
              "    </tr>\n",
              "  </tbody>\n",
              "</table>\n",
              "</div>\n",
              "      <button class=\"colab-df-convert\" onclick=\"convertToInteractive('df-debca316-1f62-42db-b611-751823aec506')\"\n",
              "              title=\"Convert this dataframe to an interactive table.\"\n",
              "              style=\"display:none;\">\n",
              "        \n",
              "  <svg xmlns=\"http://www.w3.org/2000/svg\" height=\"24px\"viewBox=\"0 0 24 24\"\n",
              "       width=\"24px\">\n",
              "    <path d=\"M0 0h24v24H0V0z\" fill=\"none\"/>\n",
              "    <path d=\"M18.56 5.44l.94 2.06.94-2.06 2.06-.94-2.06-.94-.94-2.06-.94 2.06-2.06.94zm-11 1L8.5 8.5l.94-2.06 2.06-.94-2.06-.94L8.5 2.5l-.94 2.06-2.06.94zm10 10l.94 2.06.94-2.06 2.06-.94-2.06-.94-.94-2.06-.94 2.06-2.06.94z\"/><path d=\"M17.41 7.96l-1.37-1.37c-.4-.4-.92-.59-1.43-.59-.52 0-1.04.2-1.43.59L10.3 9.45l-7.72 7.72c-.78.78-.78 2.05 0 2.83L4 21.41c.39.39.9.59 1.41.59.51 0 1.02-.2 1.41-.59l7.78-7.78 2.81-2.81c.8-.78.8-2.07 0-2.86zM5.41 20L4 18.59l7.72-7.72 1.47 1.35L5.41 20z\"/>\n",
              "  </svg>\n",
              "      </button>\n",
              "      \n",
              "  <style>\n",
              "    .colab-df-container {\n",
              "      display:flex;\n",
              "      flex-wrap:wrap;\n",
              "      gap: 12px;\n",
              "    }\n",
              "\n",
              "    .colab-df-convert {\n",
              "      background-color: #E8F0FE;\n",
              "      border: none;\n",
              "      border-radius: 50%;\n",
              "      cursor: pointer;\n",
              "      display: none;\n",
              "      fill: #1967D2;\n",
              "      height: 32px;\n",
              "      padding: 0 0 0 0;\n",
              "      width: 32px;\n",
              "    }\n",
              "\n",
              "    .colab-df-convert:hover {\n",
              "      background-color: #E2EBFA;\n",
              "      box-shadow: 0px 1px 2px rgba(60, 64, 67, 0.3), 0px 1px 3px 1px rgba(60, 64, 67, 0.15);\n",
              "      fill: #174EA6;\n",
              "    }\n",
              "\n",
              "    [theme=dark] .colab-df-convert {\n",
              "      background-color: #3B4455;\n",
              "      fill: #D2E3FC;\n",
              "    }\n",
              "\n",
              "    [theme=dark] .colab-df-convert:hover {\n",
              "      background-color: #434B5C;\n",
              "      box-shadow: 0px 1px 3px 1px rgba(0, 0, 0, 0.15);\n",
              "      filter: drop-shadow(0px 1px 2px rgba(0, 0, 0, 0.3));\n",
              "      fill: #FFFFFF;\n",
              "    }\n",
              "  </style>\n",
              "\n",
              "      <script>\n",
              "        const buttonEl =\n",
              "          document.querySelector('#df-debca316-1f62-42db-b611-751823aec506 button.colab-df-convert');\n",
              "        buttonEl.style.display =\n",
              "          google.colab.kernel.accessAllowed ? 'block' : 'none';\n",
              "\n",
              "        async function convertToInteractive(key) {\n",
              "          const element = document.querySelector('#df-debca316-1f62-42db-b611-751823aec506');\n",
              "          const dataTable =\n",
              "            await google.colab.kernel.invokeFunction('convertToInteractive',\n",
              "                                                     [key], {});\n",
              "          if (!dataTable) return;\n",
              "\n",
              "          const docLinkHtml = 'Like what you see? Visit the ' +\n",
              "            '<a target=\"_blank\" href=https://colab.research.google.com/notebooks/data_table.ipynb>data table notebook</a>'\n",
              "            + ' to learn more about interactive tables.';\n",
              "          element.innerHTML = '';\n",
              "          dataTable['output_type'] = 'display_data';\n",
              "          await google.colab.output.renderOutput(dataTable, element);\n",
              "          const docLink = document.createElement('div');\n",
              "          docLink.innerHTML = docLinkHtml;\n",
              "          element.appendChild(docLink);\n",
              "        }\n",
              "      </script>\n",
              "    </div>\n",
              "  </div>\n",
              "  "
            ],
            "text/plain": [
              "                0           1\n",
              "3           T-Rox  Fantominho\n",
              "4          Maraca  Fantominho\n",
              "5  Rei-do-Vinhedo  Fantominho\n",
              "6       Cornocelo  Fantominho"
            ]
          },
          "metadata": {},
          "output_type": "display_data"
        },
        {
          "data": {
            "text/plain": [
              "{'T-Rox': 'Fantominho',\n",
              " 'Maraca': 'Fantominho',\n",
              " 'Rei-do-Vinhedo': 'Fantominho',\n",
              " 'Cornocelo': 'Fantominho'}"
            ]
          },
          "execution_count": 9,
          "metadata": {},
          "output_type": "execute_result"
        }
      ],
      "source": [
        "entbrat_tables = pd.read_html('https://mysingingmonsters.fandom.com/wiki/Entbrat')\n",
        "df_entbrat = pd.DataFrame(entbrat_tables[10])\n",
        "dff_entbrat = df_entbrat[[0, 1]].copy()\n",
        "\n",
        "dff_entbrat = dff_entbrat[dff_entbrat[0].str.contains(\"Bred with\")==False]\n",
        "dff_entbrat = dff_entbrat[dff_entbrat[1].str.contains(\"Rare\")==False]\n",
        "dff_entbrat = dff_entbrat[dff_entbrat[1].str.contains(\"Epic\")==False]\n",
        "dff_entbrat = dff_entbrat[dff_entbrat[0].str.contains(\"Any other\")==False]\n",
        "dff_entbrat = dff_entbrat[dff_entbrat[1].str.contains(\"Any other\")==False]\n",
        "dff_entbrat = dff_entbrat.replace(dict_translation)\n",
        "display(dff_entbrat)\n",
        "dict(zip(dff_entbrat[0], dff_entbrat[1]))"
      ]
    },
    {
      "cell_type": "code",
      "execution_count": 5,
      "metadata": {
        "colab": {
          "base_uri": "https://localhost:8080/"
        },
        "id": "eTfSq9zHM3Dx",
        "outputId": "3d8fa9de-dd7d-4344-e99d-842f9b46b453"
      },
      "outputs": [
        {
          "name": "stdout",
          "output_type": "stream",
          "text": [
            "{'Tweedle': {'Noggin': 'Cybop', 'Mammott': 'Pango', 'Toe Jammer': 'Quibble', 'Potbelly': 'Dandidoo', 'Kayna': 'Glowl', 'Maw': 'Congle', 'Furcorn': 'Thumpies', 'Oaktopus': 'Spunge', 'Drumpler': 'PomPom', 'Fwog': 'Scups', 'Shrubb': 'Reedling', 'Stogg': 'Floogull', 'Flowah': 'Barrb', 'Phangler': 'Whaddle', 'Boskus': 'Woolabee', 'Bowgart': 'Deedge', 'T-Rox': 'Riff', 'Pummel': 'Shellbeat', 'Clamble': 'Quarrister', 'Repatillo': 'Tring', 'Wynq': 'Sneyser', 'Riff': 'Schmoochle'}, 'Potbelly': {'Noggin': 'Shrubb', 'Mammott': 'Furcorn', 'Toe Jammer': 'Oaktopus', 'Tweedle': 'Dandidoo', 'Kayna': 'Flowah', 'Fluoress': 'Gob', 'Theremind': 'Bonkers', 'Drumpler': 'Clamble', 'Fwog': 'Pummel', 'Maw': 'Bowgart', 'Pango': 'Thumpies', 'Quibble': 'Spunge', 'Cybop': 'Reedling', 'Stogg': 'Repatillo', 'Glowl': 'Barrb', 'Phangler': 'Rootitoot', 'Boskus': 'Sooza', 'Bulbo': 'Spytrap', 'Pluckbill': 'TooToo', 'Poppette': 'Tapricorn', 'Yuggler': 'Rooba', 'T-Rox': 'Entbrat', 'Congle': 'Deedge', 'Scups': 'Shellbeat', 'PomPom': 'Quarrister', 'Floogull': 'Tring', 'Fiddlement': \"Blow't\", 'Periscorp': 'Gloptic', 'Shugabush': 'Shugabass'}, 'Noggin': {'Mammott': 'Drumpler', 'Toe Jammer': 'Fwog', 'Potbelly': 'Shrubb', 'Tweedle': 'Cybop', 'Kayna': 'Stogg', 'Floot Fly': 'HippityHop', 'Clackula': 'Peckidna', 'Maw': 'T-Rox', 'Furcorn': 'Clamble', 'Oaktopus': 'Pummel', 'Pango': 'PomPom', 'Quibble': 'Scups', 'Dandidoo': 'Reedling', 'Flowah': 'Repatillo', 'Glowl': 'Floogull', 'Boskus': 'Ziggurab', 'Squot': 'Cantorell', 'Wimmzies': 'Bridg-it', 'Phangler': 'Thrumble', 'Denchuhs': 'Withur', 'Hawlo': 'Uuduk', 'Bowgart': 'Entbrat', 'Congle': 'Riff', 'Spunge': 'Shellbeat', 'Thumpies': 'Quarrister', 'Barrb': 'Tring', 'Clavi Gnat': 'Pladdie', 'Banjaw': 'Plinkajou'}, 'Toe Jammer': {'Noggin': 'Fwog', 'Mammott': 'Maw', 'Potbelly': 'Oaktopus', 'Tweedle': 'Quibble', 'Kayna': 'Phangler', 'Theremind': 'Poppette', 'Clackula': 'Denchuhs', 'Drumpler': 'T-Rox', 'Shrubb': 'Pummel', 'Furcorn': 'Bowgart', 'Pango': 'Congle', 'Dandidoo': 'Spunge', 'Cybop': 'Scups', 'Boskus': 'Wynq', 'Glowl': 'Whaddle', 'Flowah': 'Rootitoot', 'Bonkers': 'Tapricorn', 'Yuggler': 'Periscorp', 'Stogg': 'Thrumble', 'Peckidna': 'Withur', 'Hawlo': 'Banjaw', 'Clamble': 'Entbrat', 'Thumpies': 'Deedge', 'PomPom': 'Riff', 'Reedling': 'Shellbeat', 'Woolabee': 'Sneyser', 'Rooba': 'Gloptic', 'Uuduk': 'Plinkajou'}, 'Mammott': {'Noggin': 'Drumpler', 'Toe Jammer': 'Maw', 'Potbelly': 'Furcorn', 'Tweedle': 'Pango', 'Kayna': 'Boskus', 'Floot Fly': 'Squot', 'Fluoress': 'Bulbo', 'Fwog': 'T-Rox', 'Shrubb': 'Clamble', 'Oaktopus': 'Bowgart', 'Quibble': 'Congle', 'Dandidoo': 'Thumpies', 'Cybop': 'PomPom', 'Phangler': 'Wynq', 'Glowl': 'Woolabee', 'Stogg': 'Ziggurab', 'Flowah': 'Sooza', 'Gob': 'Spytrap', 'Pluckbill': 'Fiddlement', 'HippityHop': 'Cantorell', 'Wimmzies': 'Clavi Gnat', 'Pummel': 'Entbrat', 'Spunge': 'Deedge', 'Scups': 'Riff', 'Reedling': 'Quarrister', 'Whaddle': 'Sneyser', 'TooToo': \"Blow't\", 'Bridg-it': 'Pladdie', 'Shugabush': 'Shugarock'}, 'Dandidoo': {'Mammott': 'Thumpies', 'Toe Jammer': 'Spunge', 'Noggin': 'Reedling', 'Kayna': 'Barrb', 'Maw': 'Deedge', 'Fwog': 'Shellbeat', 'Drumpler': 'Quarrister', 'Stogg': 'Tring'}, 'Cybop': {'Mammott': 'PomPom', 'Toe Jammer': 'Scups', 'Potbelly': 'Reedling', 'Kayna': 'Floogull', 'Maw': 'Riff', 'Oaktopus': 'Shellbeat', 'Furcorn': 'Quarrister', 'Flowah': 'Tring'}, 'Quibble': {'Mammott': 'Congle', 'Potbelly': 'Spunge', 'Noggin': 'Scups', 'Kayna': 'Whaddle', 'Furcorn': 'Deedge', 'Drumpler': 'Riff', 'Shrubb': 'Shellbeat', 'Boskus': 'Sneyser', 'Shugabush': 'Shugabuzz'}, 'Pango': {'Toe Jammer': 'Congle', 'Potbelly': 'Thumpies', 'Noggin': 'PomPom', 'Kayna': 'Woolabee', 'Oaktopus': 'Deedge', 'Fwog': 'Riff', 'Shrubb': 'Quarrister', 'Phangler': 'Sneyser', 'PomPom': 'Hoola'}, 'Shrubb': {'Mammott': 'Clamble', 'Toe Jammer': 'Pummel', 'Tweedle': 'Reedling', 'Kayna': 'Repatillo', 'Maw': 'Entbrat', 'Quibble': 'Shellbeat', 'Pango': 'Quarrister', 'Glowl': 'Tring'}, 'Oaktopus': {'Noggin': 'Pummel', 'Mammott': 'Bowgart', 'Tweedle': 'Spunge', 'Kayna': 'Rootitoot', 'Theremind': 'Tapricorn', 'Drumpler': 'Entbrat', 'Pango': 'Deedge', 'Cybop': 'Shellbeat', 'Yuggler': 'Gloptic', 'Shugabush': 'Shugajo'}, 'Furcorn': {'Noggin': 'Clamble', 'Toe Jammer': 'Bowgart', 'Tweedle': 'Thumpies', 'Kayna': 'Sooza', 'Fluoress': 'Spytrap', 'Fwog': 'Entbrat', 'Quibble': 'Deedge', 'Cybop': 'Quarrister', 'Pluckbill': \"Blow't\", 'Shugabush': 'Shugabeats'}, 'Fwog': {'Mammott': 'T-Rox', 'Potbelly': 'Pummel', 'Tweedle': 'Scups', 'Kayna': 'Thrumble', 'Clackula': 'Withur', 'Furcorn': 'Entbrat', 'Pango': 'Riff', 'Dandidoo': 'Shellbeat', 'Hawlo': 'Plinkajou'}, 'Drumpler': {'Toe Jammer': 'T-Rox', 'Potbelly': 'Clamble', 'Tweedle': 'PomPom', 'Kayna': 'Ziggurab', 'Floot Fly': 'Cantorell', 'Oaktopus': 'Entbrat', 'Quibble': 'Riff', 'Dandidoo': 'Quarrister', 'Wimmzies': 'Pladdie'}, 'Maw': {'Tweedle': 'Congle', 'Potbelly': 'Bowgart', 'Noggin': 'T-Rox', 'Kayna': 'Wynq', 'Shrubb': 'Entbrat', 'Dandidoo': 'Deedge', 'Cybop': 'Riff', 'Glowl': 'Sneyser', 'Wynq': 'Spurrit'}, 'Reedling': {'Toe Jammer': 'Shellbeat', 'Mammott': 'Quarrister', 'Kayna': 'Tring', 'Shellbeat': 'Jeeode', 'Quarrister': 'Humbug'}, 'Spunge': {'Mammott': 'Deedge', 'Noggin': 'Shellbeat', 'Deedge': 'Grumpyre', 'Shellbeat': 'Jeeode', 'Bowgart': 'Strombonin', 'Scups': 'Blabbit'}, 'Thumpies': {'Toe Jammer': 'Deedge', 'Noggin': 'Quarrister', 'Deedge': 'Grumpyre', 'Quarrister': 'Humbug', 'Congle': 'Yool', 'PomPom': 'Hyehehe'}, 'PomPom': {'Toe Jammer': 'Riff', 'Potbelly': 'Quarrister', 'Riff': 'Reebro', 'Quarrister': 'Humbug', 'Pango': 'Hoola', 'Thumpies': 'Hyehehe', 'Shugabush': 'Shugitar'}, 'Congle': {'Potbelly': 'Deedge', 'Noggin': 'Riff', 'Kayna': 'Sneyser', 'Deedge': 'Grumpyre', 'Riff': 'Reebro', 'Thumpies': 'Yool', 'Woolabee': 'Cherubble'}, 'Pummel': {'Mammott': 'Entbrat', 'Tweedle': 'Shellbeat', 'Entbrat': 'Ghazt', 'Shellbeat': 'Jeeode', 'T-Rox': \"G'joob\", 'Scups': 'Anglow'}, 'Clamble': {'Toe Jammer': 'Entbrat', 'Tweedle': 'Quarrister', 'Entbrat': 'Ghazt', 'Quarrister': 'Humbug', 'Bowgart': 'Shugabush'}, 'Bowgart': {'Noggin': 'Entbrat', 'Tweedle': 'Deedge', 'Entbrat': 'Ghazt', 'Deedge': 'Grumpyre', 'Spunge': 'Strombonin', 'T-Rox': 'Punkleton', 'Clamble': 'Shugabush'}, 'T-Rox': {'Potbelly': 'Entbrat', 'Tweedle': 'Riff', 'Entbrat': 'Ghazt', 'Riff': 'Reebro', 'Pummel': \"G'joob\", 'Scups': 'Yawstrich', 'Bowgart': 'Punkleton'}, 'Scups': {'Mammott': 'Riff', 'Potbelly': 'Shellbeat', 'Riff': 'Reebro', 'Shellbeat': 'Jeeode', 'T-Rox': 'Yawstrich', 'Pummel': 'Anglow', 'Spunge': 'Blabbit'}, 'Shellbeat': {'Pummel': 'Jeeode', 'Spunge': 'Jeeode', 'Scups': 'Jeeode', 'Reedling': 'Jeeode'}, 'Deedge': {'Congle': 'Grumpyre', 'Bowgart': 'Grumpyre', 'Spunge': 'Grumpyre', 'Thumpies': 'Grumpyre', 'Shugabush': 'Shugavox'}, 'Riff': {'T-Rox': 'Reebro', 'PomPom': 'Reebro', 'Congle': 'Reebro', 'Scups': 'Reebro', 'Tweedle': 'Schmoochle'}, 'Entbrat': {'T-Rox': 'Ghazt', 'Pummel': 'Ghazt', 'Clamble': 'Ghazt', 'Bowgart': 'Ghazt'}, 'Quarrister': {'Clamble': 'Humbug', 'Thumpies': 'Humbug', 'PomPom': 'Humbug', 'Reedling': 'Humbug'}, 'Do': {'Clamble': 'Humbug', 'Thumpies': 'Humbug', 'PomPom': 'Humbug', 'Reedling': 'Humbug'}, 'Re': {'Clamble': 'Humbug', 'Thumpies': 'Humbug', 'PomPom': 'Humbug', 'Reedling': 'Humbug'}, 'Mi': {'Clamble': 'Humbug', 'Thumpies': 'Humbug', 'PomPom': 'Humbug', 'Reedling': 'Humbug'}, 'Fa': {'Clamble': 'Humbug', 'Thumpies': 'Humbug', 'PomPom': 'Humbug', 'Reedling': 'Humbug'}, 'Sol': {'Clamble': 'Humbug', 'Thumpies': 'Humbug', 'PomPom': 'Humbug', 'Reedling': 'Humbug'}, 'La': {'Clamble': 'Humbug', 'Thumpies': 'Humbug', 'PomPom': 'Humbug', 'Reedling': 'Humbug'}, 'Ti': {'Clamble': 'Humbug', 'Thumpies': 'Humbug', 'PomPom': 'Humbug', 'Reedling': 'Humbug'}, 'Kayna': {'Noggin': 'Stogg', 'Potbelly': 'Flowah', 'Tweedle': 'Glowl', 'Toe Jammer': 'Phangler', 'Mammott': 'Boskus', 'Fluoress': 'Pluckbill', 'Theremind': 'Yuggler', 'Floot Fly': 'Wimmzies', 'Clackula': 'Hawlo', 'Shrubb': 'Repatillo', 'Cybop': 'Floogull', 'Dandidoo': 'Barrb', 'Maw': 'Wynq', 'Quibble': 'Whaddle', 'Pango': 'Woolabee', 'Oaktopus': 'Rootitoot', 'Poppette': 'Periscorp', 'Bonkers': 'Rooba', 'Drumpler': 'Ziggurab', 'Fwog': 'Thrumble', 'Gob': 'TooToo', 'Bulbo': 'Fiddlement', 'HippityHop': 'Bridg-it', 'Squot': 'Clavi Gnat', 'Peckidna': 'Uuduk', 'Denchuhs': 'Banjaw', 'Furcorn': 'Sooza', 'Reedling': 'Tring', 'Congle': 'Sneyser', 'Spytrap': \"Blow't\", 'Tapricorn': 'Gloptic', 'Cantorell': 'Pladdie', 'Withur': 'Plinkajou', 'Glowl': 'Gobbleygourd'}, 'Glowl': {'Noggin': 'Floogull', 'Potbelly': 'Barrb', 'Toe Jammer': 'Whaddle', 'Mammott': 'Woolabee', 'Shrubb': 'Tring', 'Maw': 'Sneyser', 'Kayna': 'Gobbleygourd'}, 'Flowah': {'Noggin': 'Repatillo', 'Tweedle': 'Barrb', 'Toe Jammer': 'Rootitoot', 'Mammott': 'Sooza', 'Fluoress': 'TooToo', 'Theremind': 'Rooba', 'Cybop': 'Tring', 'Bulbo': \"Blow't\", 'Poppette': 'Gloptic'}, 'Stogg': {'Potbelly': 'Repatillo', 'Tweedle': 'Floogull', 'Mammott': 'Ziggurab', 'Floot Fly': 'Bridg-it', 'Toe Jammer': 'Thrumble', 'Clackula': 'Uuduk', 'Dandidoo': 'Tring', 'Squot': 'Pladdie', 'Denchuhs': 'Plinkajou'}, 'Phangler': {'Mammott': 'Wynq', 'Tweedle': 'Whaddle', 'Potbelly': 'Rootitoot', 'Theremind': 'Periscorp', 'Noggin': 'Thrumble', 'Clackula': 'Banjaw', 'Pango': 'Sneyser', 'Bonkers': 'Gloptic', 'Peckidna': 'Plinkajou'}, 'Boskus': {'Toe Jammer': 'Wynq', 'Tweedle': 'Woolabee', 'Noggin': 'Ziggurab', 'Potbelly': 'Sooza', 'Floot Fly': 'Clavi Gnat', 'Fluoress': 'Fiddlement', 'Quibble': 'Sneyser', 'HippityHop': 'Pladdie', 'Gob': \"Blow't\"}, 'Barrb': {'Noggin': 'Tring'}, 'Floogull': {'Potbelly': 'Tring'}, 'Whaddle': {'Mammott': 'Sneyser'}, 'Woolabee': {'Toe Jammer': 'Sneyser', 'Congle': 'Cherubble'}, 'Repatillo': {'Tweedle': 'Tring'}, 'Rootitoot': {'Theremind': 'Gloptic'}, 'Thrumble': {'Clackula': 'Plinkajou'}, 'Ziggurab': {'Floot Fly': 'Pladdie'}, 'Wynq': {'Tweedle': 'Sneyser', 'Maw': 'Spurrit'}, 'Sooza': {'Fluoress': \"Blow't\"}, 'Tring': {}, 'Sneyser': {}, 'Yelmut': {}, 'Flum Ox': {}, 'Krillby': {}, 'Edamimi': {}, 'PongPing': {}, 'Tiawa': {}, 'Bisonorus': {}, 'Incisaur': {}, 'Candelavra': {}, 'Bowhead': {}, 'Drummidary': {}, 'Tuskski': {}, 'Gnarls': {}, 'Fluoress': {'Potbelly': 'Gob', 'Mammott': 'Bulbo', 'Kayna': 'Pluckbill', 'Theremind': 'Cahoot', 'Floot Fly': 'Knucklehead', 'Clackula': 'Roarick', 'Furcorn': 'Spytrap', 'Flowah': 'TooToo', 'Boskus': 'Fiddlement', 'Xyster': \"G'day\", 'Déjà-Jin': 'Frondley', 'Osstax': 'Mushaboom', 'Sooza': \"Blow't\", 'Larvaluss': 'Enchantling'}, 'Theremind': {'Potbelly': 'Bonkers', 'Toe Jammer': 'Poppette', 'Kayna': 'Yuggler', 'Floot Fly': 'Déjà-Jin', 'Clackula': 'Xyster', 'Fluoress': 'Cahoot', 'Flowah': 'Rooba', 'Phangler': 'Periscorp', 'Oaktopus': 'Tapricorn', 'Knucklehead': 'Frondley', 'Osstax': 'Larvaluss', 'Roarick': \"G'day\", 'Rootitoot': 'Gloptic', 'Mushaboom': 'Enchantling'}, 'Floot Fly': {'Noggin': 'HippityHop', 'Mammott': 'Squot', 'Kayna': 'Wimmzies', 'Theremind': 'Déjà-Jin', 'Clackula': 'Osstax', 'Fluoress': 'Knucklehead', 'Drumpler': 'Cantorell', 'Stogg': 'Bridg-it', 'Boskus': 'Clavi Gnat', 'Xyster': 'Larvaluss', 'Cahoot': 'Frondley', 'Roarick': 'Mushaboom', 'Ziggurab': 'Pladdie', \"G'day\": 'Enchantling', 'Pladdie': 'Ffidyll'}, 'Clackula': {'Noggin': 'Peckidna', 'Toe Jammer': 'Denchuhs', 'Kayna': 'Hawlo', 'Theremind': 'Xyster', 'Floot Fly': 'Osstax', 'Fluoress': 'Roarick', 'Fwog': 'Withur', 'Stogg': 'Uuduk', 'Phangler': 'Banjaw', 'Cahoot': \"G'day\", 'Déjà-Jin': 'Larvaluss', 'Knucklehead': 'Mushaboom', 'Thrumble': 'Plinkajou', 'Frondley': 'Enchantling', 'Withur': 'Clavavera'}, 'Gob': {'Mammott': 'Spytrap', 'Kayna': 'TooToo', 'Boskus': \"Blow't\"}, 'Pluckbill': {'Potbelly': 'TooToo', 'Mammott': 'Fiddlement', 'Furcorn': \"Blow't\"}, 'Bulbo': {'Potbelly': 'Spytrap', 'Kayna': 'Fiddlement', 'Flowah': \"Blow't\"}, 'Bonkers': {'Toe Jammer': 'Tapricorn', 'Kayna': 'Rooba', 'Phangler': 'Gloptic', 'Periscorp': \"Boo'qwurm\"}, 'Poppette': {'Potbelly': 'Tapricorn', 'Kayna': 'Periscorp', 'Flowah': 'Gloptic'}, 'Yuggler': {'Potbelly': 'Rooba', 'Toe Jammer': 'Periscorp', 'Oaktopus': 'Gloptic'}, 'HippityHop': {'Mammott': 'Cantorell', 'Kayna': 'Bridg-it', 'Boskus': 'Pladdie'}, 'Squot': {'Noggin': 'Cantorell', 'Kayna': 'Clavi Gnat', 'Stogg': 'Pladdie'}, 'Wimmzies': {'Noggin': 'Bridg-it', 'Mammott': 'Clavi Gnat', 'Drumpler': 'Pladdie'}, 'Peckidna': {'Toe Jammer': 'Withur', 'Kayna': 'Uuduk', 'Phangler': 'Plinkajou'}, 'Denchuhs': {'Noggin': 'Withur', 'Kayna': 'Banjaw', 'Stogg': 'Plinkajou'}, 'Hawlo': {'Noggin': 'Uuduk', 'Toe Jammer': 'Banjaw', 'Fwog': 'Plinkajou'}, 'Xyster': {'Fluoress': \"G'day\", 'Floot Fly': 'Larvaluss', 'Knucklehead': 'Enchantling'}, 'Cahoot': {'Clackula': \"G'day\", 'Floot Fly': 'Frondley', 'Osstax': 'Enchantling'}, 'Déjà-Jin': {'Fluoress': 'Frondley', 'Clackula': 'Larvaluss', 'Roarick': 'Enchantling'}, 'Knucklehead': {'Theremind': 'Frondley', 'Clackula': 'Mushaboom', 'Xyster': 'Enchantling'}, 'Osstax': {'Theremind': 'Larvaluss', 'Fluoress': 'Mushaboom', 'Cahoot': 'Enchantling'}, 'Roarick': {'Theremind': \"G'day\", 'Floot Fly': 'Mushaboom', 'Déjà-Jin': 'Enchantling', 'Mushaboom': 'Carillong'}, 'Spytrap': {'Kayna': \"Blow't\", \"Blow't\": 'Whiz-bang'}, 'TooToo': {'Mammott': \"Blow't\"}, 'Fiddlement': {'Potbelly': \"Blow't\"}, 'Tapricorn': {'Kayna': 'Gloptic'}, 'Rooba': {'Toe Jammer': 'Gloptic'}, 'Periscorp': {'Potbelly': 'Gloptic', 'Bonkers': \"Boo'qwurm\"}, 'Cantorell': {'Kayna': 'Pladdie'}, 'Bridg-it': {'Mammott': 'Pladdie'}, 'Clavi Gnat': {'Noggin': 'Pladdie'}, 'Withur': {'Kayna': 'Plinkajou', 'Clackula': 'Clavavera'}, 'Uuduk': {'Toe Jammer': 'Plinkajou'}, 'Banjaw': {'Noggin': 'Plinkajou'}, 'Larvaluss': {'Fluoress': 'Enchantling'}, 'Mushaboom': {'Theremind': 'Enchantling', 'Roarick': 'Carillong'}, 'Frondley': {'Clackula': 'Enchantling'}, \"G'day\": {'Floot Fly': 'Enchantling'}, \"Blow't\": {'Spytrap': 'Whiz-bang'}, 'Gloptic': {}, 'Pladdie': {'Floot Fly': 'Ffidyll'}, 'Plinkajou': {}, 'Enchantling': {}, 'Scaratar': {}, 'Loodvigg': {}, 'Torrt': {}, 'Plixie': {}, 'Attmoz': {}, 'Hornacle': {}, 'Furnoss': {}, 'Glaishur': {}, 'Blasoom': {}, 'Syncopite': {}, 'Vhamp': {}, 'Galvana': {}, 'Ghazt': {'Grumpyre': 'Whisp', 'Reebro': 'Nebulob', 'Jeeode': 'Sox', 'Humbug': 'Jellbilly'}, 'Reebro': {'Ghazt': 'Nebulob', 'Grumpyre': 'Arackulele', 'Jeeode': 'Bellowfish', 'Humbug': 'Dragong'}, 'Grumpyre': {'Ghazt': 'Whisp', 'Reebro': 'Arackulele', 'Jeeode': 'Boodoo', 'Humbug': 'Kazilleon'}, 'Arackulele': {'Ghazt': 'Whisp', 'Reebro': 'Arackulele', 'Jeeode': 'Boodoo', 'Humbug': 'Kazilleon'}, 'Nebulob': {'Jeeode': 'Monculus'}, 'Whisp': {'Jeeode': 'Monculus'}, 'Jeeode': {'Ghazt': 'Sox', 'Grumpyre': 'Boodoo', 'Reebro': 'Bellowfish', 'Humbug': 'Fung Pray', 'Nebulob': 'Monculus'}, 'Boodoo': {'Ghazt': 'Sox', 'Grumpyre': 'Boodoo', 'Reebro': 'Bellowfish', 'Humbug': 'Fung Pray', 'Nebulob': 'Monculus'}, 'Sox': {'Ghazt': 'Sox', 'Grumpyre': 'Boodoo', 'Reebro': 'Bellowfish', 'Humbug': 'Fung Pray', 'Nebulob': 'Monculus'}, 'Humbug': {'Ghazt': 'Jellbilly', 'Grumpyre': 'Kazilleon', 'Reebro': 'Dragong', 'Jeeode': 'Fung Pray'}, 'Kazilleon': {}, 'Bellowfish': {}, 'Dragong': {}, 'Jellbilly': {}, 'Fung Pray': {}, 'Shugabush': {'Mammott': 'Shugarock', 'Potbelly': 'Shugabass', 'Furcorn': 'Shugabeats', 'Oaktopus': 'Viveine', 'Quibble': 'Shugabuzz', 'PomPom': 'Shugitar', 'Deedge': 'Shugavox'}, 'Shugabass': {'Mammott': 'Shugarock', 'Potbelly': 'Shugabass', 'Furcorn': 'Shugabeats', 'Oaktopus': 'Viveine', 'Quibble': 'Shugabuzz', 'PomPom': 'Shugitar', 'Deedge': 'Shugavox'}, 'Shugitar': {'Mammott': 'Shugarock', 'Potbelly': 'Shugabass', 'Furcorn': 'Shugabeats', 'Oaktopus': 'Viveine', 'Quibble': 'Shugabuzz', 'PomPom': 'Shugitar', 'Deedge': 'Shugavox'}, 'Shugajo': {'Mammott': 'Shugarock', 'Potbelly': 'Shugabass', 'Furcorn': 'Shugabeats', 'Oaktopus': 'Viveine', 'Quibble': 'Shugabuzz', 'PomPom': 'Shugitar', 'Deedge': 'Shugavox'}, 'Shugarock': {'Mammott': 'Shugarock', 'Potbelly': 'Shugabass', 'Furcorn': 'Shugabeats', 'Oaktopus': 'Viveine', 'Quibble': 'Shugabuzz', 'PomPom': 'Shugitar', 'Deedge': 'Shugavox'}, 'Shugabuzz': {'Mammott': 'Shugarock', 'Potbelly': 'Shugabass', 'Furcorn': 'Shugabeats', 'Oaktopus': 'Viveine', 'Quibble': 'Shugabuzz', 'PomPom': 'Shugitar', 'Deedge': 'Shugavox'}, 'Shugabeats': {'Mammott': 'Shugarock', 'Potbelly': 'Shugabass', 'Furcorn': 'Shugabeats', 'Oaktopus': 'Viveine', 'Quibble': 'Shugabuzz', 'PomPom': 'Shugitar', 'Deedge': 'Shugavox'}, 'Shugavox': {'Mammott': 'Shugarock', 'Potbelly': 'Shugabass', 'Furcorn': 'Shugabeats', 'Oaktopus': 'Viveine', 'Quibble': 'Shugabuzz', 'PomPom': 'Shugitar', 'Deedge': 'Shugavox'}, 'Tawkerr': {'Mammott': 'Shugarock', 'Potbelly': 'Shugabass', 'Furcorn': 'Shugabeats', 'Oaktopus': 'Viveine', 'Quibble': 'Shugabuzz', 'PomPom': 'Shugitar', 'Deedge': 'Shugavox'}, 'Parlsona': {'Mammott': 'Shugarock', 'Potbelly': 'Shugabass', 'Furcorn': 'Shugabeats', 'Oaktopus': 'Viveine', 'Quibble': 'Shugabuzz', 'PomPom': 'Shugitar', 'Deedge': 'Shugavox'}, 'Maggpi': {'Mammott': 'Shugarock', 'Potbelly': 'Shugabass', 'Furcorn': 'Shugabeats', 'Oaktopus': 'Viveine', 'Quibble': 'Shugabuzz', 'PomPom': 'Shugitar', 'Deedge': 'Shugavox'}, 'Stoowarb': {'Mammott': 'Shugarock', 'Potbelly': 'Shugabass', 'Furcorn': 'Shugabeats', 'Oaktopus': 'Viveine', 'Quibble': 'Shugabuzz', 'PomPom': 'Shugitar', 'Deedge': 'Shugavox'}, 'Wubbox': {'Mammott': 'Shugarock', 'Potbelly': 'Shugabass', 'Furcorn': 'Shugabeats', 'Oaktopus': 'Viveine', 'Quibble': 'Shugabuzz', 'PomPom': 'Shugitar', 'Deedge': 'Shugavox'}, 'Brump': {'Mammott': 'Shugarock', 'Potbelly': 'Shugabass', 'Furcorn': 'Shugabeats', 'Oaktopus': 'Viveine', 'Quibble': 'Shugabuzz', 'PomPom': 'Shugitar', 'Deedge': 'Shugavox'}, 'Zynth': {'Mammott': 'Shugarock', 'Potbelly': 'Shugabass', 'Furcorn': 'Shugabeats', 'Oaktopus': 'Viveine', 'Quibble': 'Shugabuzz', 'PomPom': 'Shugitar', 'Deedge': 'Shugavox'}, 'Poewk': {'Mammott': 'Shugarock', 'Potbelly': 'Shugabass', 'Furcorn': 'Shugabeats', 'Oaktopus': 'Viveine', 'Quibble': 'Shugabuzz', 'PomPom': 'Shugitar', 'Deedge': 'Shugavox'}, 'Thwok': {'Mammott': 'Shugarock', 'Potbelly': 'Shugabass', 'Furcorn': 'Shugabeats', 'Oaktopus': 'Viveine', 'Quibble': 'Shugabuzz', 'PomPom': 'Shugitar', 'Deedge': 'Shugavox'}, 'Dwumrohl': {'Mammott': 'Shugarock', 'Potbelly': 'Shugabass', 'Furcorn': 'Shugabeats', 'Oaktopus': 'Viveine', 'Quibble': 'Shugabuzz', 'PomPom': 'Shugitar', 'Deedge': 'Shugavox'}, 'Zuuker': {'Mammott': 'Shugarock', 'Potbelly': 'Shugabass', 'Furcorn': 'Shugabeats', 'Oaktopus': 'Viveine', 'Quibble': 'Shugabuzz', 'PomPom': 'Shugitar', 'Deedge': 'Shugavox'}, 'Screemu': {'Mammott': 'Shugarock', 'Potbelly': 'Shugabass', 'Furcorn': 'Shugabeats', 'Oaktopus': 'Viveine', 'Quibble': 'Shugabuzz', 'PomPom': 'Shugitar', 'Deedge': 'Shugavox'}, 'Tympa': {'Mammott': 'Shugarock', 'Potbelly': 'Shugabass', 'Furcorn': 'Shugabeats', 'Oaktopus': 'Viveine', 'Quibble': 'Shugabuzz', 'PomPom': 'Shugitar', 'Deedge': 'Shugavox'}, 'Dermit': {'Mammott': 'Shugarock', 'Potbelly': 'Shugabass', 'Furcorn': 'Shugabeats', 'Oaktopus': 'Viveine', 'Quibble': 'Shugabuzz', 'PomPom': 'Shugitar', 'Deedge': 'Shugavox'}, 'Gheegur': {'Mammott': 'Shugarock', 'Potbelly': 'Shugabass', 'Furcorn': 'Shugabeats', 'Oaktopus': 'Viveine', 'Quibble': 'Shugabuzz', 'PomPom': 'Shugitar', 'Deedge': 'Shugavox'}, 'Whajje': {'Mammott': 'Shugarock', 'Potbelly': 'Shugabass', 'Furcorn': 'Shugabeats', 'Oaktopus': 'Viveine', 'Quibble': 'Shugabuzz', 'PomPom': 'Shugitar', 'Deedge': 'Shugavox'}, 'Creepuscule': {'Mammott': 'Shugarock', 'Potbelly': 'Shugabass', 'Furcorn': 'Shugabeats', 'Oaktopus': 'Viveine', 'Quibble': 'Shugabuzz', 'PomPom': 'Shugitar', 'Deedge': 'Shugavox'}, 'Blipsqueak': {'Mammott': 'Shugarock', 'Potbelly': 'Shugabass', 'Furcorn': 'Shugabeats', 'Oaktopus': 'Viveine', 'Quibble': 'Shugabuzz', 'PomPom': 'Shugitar', 'Deedge': 'Shugavox'}, 'Scargo': {'Mammott': 'Shugarock', 'Potbelly': 'Shugabass', 'Furcorn': 'Shugabeats', 'Oaktopus': 'Viveine', 'Quibble': 'Shugabuzz', 'PomPom': 'Shugitar', 'Deedge': 'Shugavox'}, 'Astropod': {'Mammott': 'Shugarock', 'Potbelly': 'Shugabass', 'Furcorn': 'Shugabeats', 'Oaktopus': 'Viveine', 'Quibble': 'Shugabuzz', 'PomPom': 'Shugitar', 'Deedge': 'Shugavox'}, 'Pixolotl': {'Mammott': 'Shugarock', 'Potbelly': 'Shugabass', 'Furcorn': 'Shugabeats', 'Oaktopus': 'Viveine', 'Quibble': 'Shugabuzz', 'PomPom': 'Shugitar', 'Deedge': 'Shugavox'}, 'Bona-Petite': {'Mammott': 'Shugarock', 'Potbelly': 'Shugabass', 'Furcorn': 'Shugabeats', 'Oaktopus': 'Viveine', 'Quibble': 'Shugabuzz', 'PomPom': 'Shugitar', 'Deedge': 'Shugavox'}, 'Maulch': {'Mammott': 'Shugarock', 'Potbelly': 'Shugabass', 'Furcorn': 'Shugabeats', 'Oaktopus': 'Viveine', 'Quibble': 'Shugabuzz', 'PomPom': 'Shugitar', 'Deedge': 'Shugavox'}, 'Fleechwurm': {'Mammott': 'Shugarock', 'Potbelly': 'Shugabass', 'Furcorn': 'Shugabeats', 'Oaktopus': 'Viveine', 'Quibble': 'Shugabuzz', 'PomPom': 'Shugitar', 'Deedge': 'Shugavox'}, \"G'joob\": {'Cataliszt': 'Bleatnik'}, 'Strombonin': {'Cataliszt': 'Bleatnik'}, 'Yawstrich': {'Cataliszt': 'Bleatnik'}, 'Anglow': {'Cataliszt': 'Bleatnik'}, 'Hyehehe': {'Cataliszt': 'Bleatnik'}, 'Cherubble': {'Cataliszt': 'Bleatnik'}, 'Cataliszt': {\"G'joob\": 'Bleatnik', 'Strombonin': 'Cranchee', 'Yawstrich': 'Sporerow', 'Anglow': 'Pinghound', 'Hyehehe': 'Wheezel', 'Cherubble': 'shLep'}, 'Bleatnik': {\"G'joob\": 'Bleatnik', 'Strombonin': 'Cranchee', 'Yawstrich': 'Sporerow', 'Anglow': 'Pinghound', 'Hyehehe': 'Wheezel', 'Cherubble': 'shLep'}, 'Cranchee': {\"G'joob\": 'Bleatnik', 'Strombonin': 'Cranchee', 'Yawstrich': 'Sporerow', 'Anglow': 'Pinghound', 'Hyehehe': 'Wheezel', 'Cherubble': 'shLep'}, 'Sporerow': {\"G'joob\": 'Bleatnik', 'Strombonin': 'Cranchee', 'Yawstrich': 'Sporerow', 'Anglow': 'Pinghound', 'Hyehehe': 'Wheezel', 'Cherubble': 'shLep'}, 'Pinghound': {\"G'joob\": 'Bleatnik', 'Strombonin': 'Cranchee', 'Yawstrich': 'Sporerow', 'Anglow': 'Pinghound', 'Hyehehe': 'Wheezel', 'Cherubble': 'shLep'}, 'Wheezel': {\"G'joob\": 'Bleatnik', 'Strombonin': 'Cranchee', 'Yawstrich': 'Sporerow', 'Anglow': 'Pinghound', 'Hyehehe': 'Wheezel', 'Cherubble': 'shLep'}, 'ShLep': {\"G'joob\": 'Bleatnik', 'Strombonin': 'Cranchee', 'Yawstrich': 'Sporerow', 'Anglow': 'Pinghound', 'Hyehehe': 'Wheezel', 'Cherubble': 'shLep'}, 'Punkleton': {'Yool': 'Gobbleygourd', 'Schmoochle': 'Clavavera', 'Blabbit': 'Viveine', 'Hoola': 'Jam Boree'}, 'Yool': {'Punkleton': 'Gobbleygourd', 'Schmoochle': 'Carillong', 'Blabbit': 'Whiz-bang', 'Hoola': 'Monculus'}, 'Schmoochle': {'Punkleton': 'Clavavera', 'Yool': 'Carillong', 'Blabbit': 'Ffidyll', 'Hoola': \"Boo'qwurm\"}, 'Blabbit': {'Punkleton': 'Viveine', 'Yool': 'Whiz-bang', 'Schmoochle': 'Ffidyll', 'Hoola': 'Spurrit'}, 'Hoola': {'Punkleton': 'Jam Boree', 'Yool': 'Monculus', 'Schmoochle': \"Boo'qwurm\", 'Blabbit': 'Spurrit'}, 'Gobbleygourd': {'Punkleton': 'Jam Boree', 'Yool': 'Monculus', 'Schmoochle': \"Boo'qwurm\", 'Blabbit': 'Spurrit'}, 'Jam Boree': {'Punkleton': 'Jam Boree', 'Yool': 'Monculus', 'Schmoochle': \"Boo'qwurm\", 'Blabbit': 'Spurrit'}, 'Clavavera': {'Punkleton': 'Jam Boree', 'Yool': 'Monculus', 'Schmoochle': \"Boo'qwurm\", 'Blabbit': 'Spurrit'}, 'Carillong': {'Punkleton': 'Jam Boree', 'Yool': 'Monculus', 'Schmoochle': \"Boo'qwurm\", 'Blabbit': 'Spurrit'}, 'Ffidyll': {'Punkleton': 'Jam Boree', 'Yool': 'Monculus', 'Schmoochle': \"Boo'qwurm\", 'Blabbit': 'Spurrit'}, 'Viveine': {'Punkleton': 'Jam Boree', 'Yool': 'Monculus', 'Schmoochle': \"Boo'qwurm\", 'Blabbit': 'Spurrit'}, 'Spurrit': {'Punkleton': 'Jam Boree', 'Yool': 'Monculus', 'Schmoochle': \"Boo'qwurm\", 'Blabbit': 'Spurrit'}, 'Monculus': {'Punkleton': 'Jam Boree', 'Yool': 'Monculus', 'Schmoochle': \"Boo'qwurm\", 'Blabbit': 'Spurrit'}, 'Whiz-bang': {'Punkleton': 'Jam Boree', 'Yool': 'Monculus', 'Schmoochle': \"Boo'qwurm\", 'Blabbit': 'Spurrit'}, \"Boo'qwurm\": {'Punkleton': 'Jam Boree', 'Yool': 'Monculus', 'Schmoochle': \"Boo'qwurm\", 'Blabbit': 'Spurrit'}}\n"
          ]
        }
      ],
      "source": [
        "from unicodedata import normalize\n",
        "dicio = {}\n",
        "for monstro in lista_en:\n",
        "  monstro_original = monstro\n",
        "  monstro = normalize('NFKD', monstro).encode('ASCII','ignore').decode('ASCII')\n",
        "  monstro = monstro.replace(' ', '_')\n",
        "  monstro_tables = pd.read_html('https://mysingingmonsters.fandom.com/wiki/' + monstro)\n",
        "  for table2 in monstro_tables:\n",
        "    for i in range(len(table2)):\n",
        "      if (len(table2) > 5) and 'Bred with' in table2.columns.values.tolist():\n",
        "        table = table2\n",
        "  table = table[table[\"Bred with\"].str.contains(\"Any other\")==False]\n",
        "  table = table[table[\"Result\"].str.contains(\"Any other\")==False]\n",
        "  table = table[table[\"Result\"].str.contains(\"Rare\")==False]\n",
        "  table = table[table[\"Result\"].str.contains(\"Epic\")==False]\n",
        "  table = table[['Bred with', 'Result']].copy()\n",
        "  # table = table.replace(dict_translation)\n",
        "  dicio1 = dict(zip(table['Bred with'], table['Result']))\n",
        "  # monstro_original = dict_translation[monstro_original]\n",
        "  dicio[monstro_original] = dicio1\n",
        "print(dicio)\n",
        "\n",
        "\n",
        "\n",
        "# df_teste = do_tables[10]\n",
        "# 'Bred' in df_teste[0][1]"
      ]
    },
    {
      "cell_type": "code",
      "execution_count": 6,
      "metadata": {},
      "outputs": [
        {
          "data": {
            "text/plain": [
              "23761"
            ]
          },
          "execution_count": 6,
          "metadata": {},
          "output_type": "execute_result"
        }
      ],
      "source": [
        "js = json.dumps(dicio)\n",
        "f = open(\"dicio.json\",\"w\")\n",
        "f.write(js)"
      ]
    },
    {
      "cell_type": "code",
      "execution_count": null,
      "metadata": {
        "colab": {
          "base_uri": "https://localhost:8080/",
          "height": 36
        },
        "id": "7URSqf47UTQi",
        "outputId": "bed94ecd-eed8-45f3-bc10-575d30d3f948"
      },
      "outputs": [
        {
          "data": {
            "application/vnd.google.colaboratory.intrinsic+json": {
              "type": "string"
            },
            "text/plain": [
              "'Pintinho Piu'"
            ]
          },
          "execution_count": 68,
          "metadata": {},
          "output_type": "execute_result"
        }
      ],
      "source": [
        "\n",
        "monstro_tables = pd.read_html(\"https://mysingingmonsters.fandom.com/wiki/Tweedle\")\n",
        "monstro = 'Tweedle'\n",
        "dict_translation[monstro]\n",
        "\n",
        "# for i in range(len(monstro_tables)):\n",
        "#   table = monstro_tables[i]\n",
        "#   if (len(table) > 5) and 'Bred with' in table.columns.values.tolist():\n",
        "#     table = table[table[\"Bred with\"].str.contains(\"Any other\")==False]\n",
        "#     table = table[table[\"Result\"].str.contains(\"Any other\")==False]\n",
        "#     table = table[table[\"Result\"].str.contains(\"Rare\")==False]\n",
        "#     table = table[table[\"Result\"].str.contains(\"Epic\")==False]\n",
        "#     table = table[['Bred with', 'Result']].copy()\n",
        "#     table = table.replace(dict_translation)\n",
        "#     dicio1 = dict(zip(table['Bred with'], table['Result']))\n",
        "#     final = {monstro : dicio1}\n",
        "#     print(final)\n",
        "\n",
        "  # for table in monstro_tables:\n",
        "  #   table.rename(columns = {0: 'cu'}, inplace=True)\n",
        "  #   print(table['cu'])"
      ]
    }
  ],
  "metadata": {
    "colab": {
      "provenance": []
    },
    "kernelspec": {
      "display_name": "Python 3",
      "name": "python3"
    },
    "language_info": {
      "codemirror_mode": {
        "name": "ipython",
        "version": 3
      },
      "file_extension": ".py",
      "mimetype": "text/x-python",
      "name": "python",
      "nbconvert_exporter": "python",
      "pygments_lexer": "ipython3",
      "version": "3.10.0"
    }
  },
  "nbformat": 4,
  "nbformat_minor": 0
}
